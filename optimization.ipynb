{
 "cells": [
  {
   "cell_type": "code",
   "execution_count": 201,
   "metadata": {},
   "outputs": [],
   "source": [
    "import itertools\n",
    "from typing import Sequence\n",
    "from functools import partial\n",
    "from collections import defaultdict\n",
    "\n",
    "import sympy\n",
    "import numpy as np\n",
    "from scipy.optimize import minimize\n",
    "\n",
    "import matplotlib\n",
    "import matplotlib.pyplot as plt \n",
    "import seaborn as sns\n",
    "sns.set_theme(style='whitegrid')\n",
    "sns.set_palette('Set1')"
   ]
  },
  {
   "attachments": {},
   "cell_type": "markdown",
   "metadata": {},
   "source": [
    "# Contents\n",
    "\n",
    "### 1. Gradient Projection\n",
    "### 2. Newton: Newton: backtracking search\n",
    "### 3. Simplex Method\n",
    "### 4. Ellipsoid Method"
   ]
  },
  {
   "attachments": {},
   "cell_type": "markdown",
   "metadata": {},
   "source": [
    "# 1. Gradient Projection"
   ]
  },
  {
   "attachments": {},
   "cell_type": "markdown",
   "metadata": {},
   "source": [
    "$$\n",
    "\\begin{align*}\n",
    "    \\begin{cases}\n",
    "        J(u) = ||u||^2 + \\langle u, a \\rangle^2 + \\langle u, b \\rangle \\to inf, \\mathbf{U} = \\{u \\in H \\text{ }|\\text{ }||u|| \\le 2; \\langle a, u \\rangle \\geq 1 \\}\\\\\n",
    "        ||a|| = 1 \\\\ ||b|| = 2 \\\\ \\langle a, b \\rangle = 0\n",
    "    \\end{cases}\\,\n",
    "\\end{align*} \\\\ \n",
    "\n",
    "\\alpha_k = const \\\\\n",
    "u_0 = a\n",
    "$$"
   ]
  },
  {
   "attachments": {},
   "cell_type": "markdown",
   "metadata": {},
   "source": [
    "$$\n",
    "J'(u) = 2u + 2a\\langle u, a \\rangle + b \\\\\n",
    "$$"
   ]
  },
  {
   "cell_type": "code",
   "execution_count": 207,
   "metadata": {},
   "outputs": [],
   "source": [
    "a = np.random.rand(100)\n",
    "a = a / np.linalg.norm(a)\n",
    "\n",
    "b = np.random.rand(100)\n",
    "b = b / np.linalg.norm(b)\n",
    "\n",
    "b = b - a * np.dot(b, a)\n",
    "b = b / np.linalg.norm(b) * 2\n",
    "\n",
    "alpha = 1 / 4\n",
    "u0 = a\n",
    "\n",
    "assert np.allclose(np.linalg.norm(a), 1)\n",
    "assert np.allclose(np.linalg.norm(b), 2)\n",
    "assert np.allclose(np.dot(a, b), 0)"
   ]
  },
  {
   "cell_type": "code",
   "execution_count": 208,
   "metadata": {},
   "outputs": [],
   "source": [
    "def compute_gradient(u : np.ndarray):\n",
    "    return 2*u + 2*np.dot(u, a)*a + b\n",
    "\n",
    "def projection(u : np.ndarray):\n",
    "    A = np.stack((a, b/2), axis=1)\n",
    "    projs = (A.T @ u[:, None]).ravel()\n",
    "\n",
    "    if np.linalg.norm(u) <= 2:\n",
    "        if np.dot(a, u) >= 1:\n",
    "            return u\n",
    "        u = a + projs[1] * b / 2\n",
    "        if np.linalg.norm(u) <= 2:\n",
    "            return u\n",
    "        \n",
    "        # return one of the corner points\n",
    "        if projs[1] > 0:\n",
    "           return a + np.sqrt(3)/2 * b\n",
    "        return a - np.sqrt(3)/2 * b\n",
    "    \n",
    "    if np.dot(a, u) < 1:\n",
    "        if np.abs(projs[1]) <= np.sqrt(3):\n",
    "            return a + projs[1] * b / 2\n",
    "\n",
    "        # return one of the corner points\n",
    "        if projs[1] > 0:\n",
    "           return a + np.sqrt(3)/2 * b\n",
    "        return a - np.sqrt(3)/2 * b\n",
    "    \n",
    "    cos_a = np.dot(a, u) / np.linalg.norm(u)\n",
    "    cos_bound = np.dot(a, a + np.sqrt(3)/2 * b) / 2\n",
    "\n",
    "    if cos_a < cos_bound:\n",
    "        # return one of the corner points\n",
    "        if projs[1] > 0:\n",
    "           return a + np.sqrt(3)/2 * b\n",
    "        return a - np.sqrt(3)/2 * b\n",
    "    \n",
    "    return u / np.linalg.norm(u) * 2\n",
    "\n",
    "def gradient_projection(alpha):\n",
    "    k = 0\n",
    "    uk = u0\n",
    "    while True:\n",
    "        k += 1\n",
    "        u_proj = projection(uk - alpha * compute_gradient(uk))\n",
    "        if np.allclose(u_proj, uk, rtol=1e-8):\n",
    "            print(f'Num iterations {k}')\n",
    "            return u_proj\n",
    "        uk = u_proj"
   ]
  },
  {
   "cell_type": "code",
   "execution_count": 209,
   "metadata": {},
   "outputs": [
    {
     "name": "stdout",
     "output_type": "stream",
     "text": [
      "Num iterations 25\n"
     ]
    },
    {
     "data": {
      "text/plain": [
       "True"
      ]
     },
     "execution_count": 209,
     "metadata": {},
     "output_type": "execute_result"
    }
   ],
   "source": [
    "np.allclose(gradient_projection(alpha), a - b/2)"
   ]
  },
  {
   "attachments": {},
   "cell_type": "markdown",
   "metadata": {},
   "source": [
    "# 2. Newton: backtracking search "
   ]
  },
  {
   "attachments": {},
   "cell_type": "markdown",
   "metadata": {},
   "source": [
    "$$\n",
    "\\begin{align*}\n",
    "    \\begin{cases}\n",
    "        J(u) = ||u||^2 + \\langle u, a \\rangle^2 + \\langle u, b \\rangle \\to inf, \\mathbf{U} = \\{u \\in H \\text{ }|\\text{ }||u|| \\le 2; \\langle a, u \\rangle \\geq 1 \\}\\\\\n",
    "        ||a|| = 1 \\\\ ||b|| = 2 \\\\ \\langle a, b \\rangle = 0\n",
    "    \\end{cases}\\,\n",
    "\\end{align*} \\\\ \n",
    "\n",
    "u_0 = a\n",
    "$$"
   ]
  },
  {
   "attachments": {},
   "cell_type": "markdown",
   "metadata": {},
   "source": [
    "$$\n",
    "J'(u) = 2u + 2a\\langle u, a \\rangle + b \\\\\n",
    "J''(u)h = 2h + 2a\\langle a, h \\rangle\n",
    "$$"
   ]
  },
  {
   "cell_type": "code",
   "execution_count": 204,
   "metadata": {},
   "outputs": [],
   "source": [
    "a = np.random.rand(100)\n",
    "a = a / np.linalg.norm(a)\n",
    "\n",
    "b = np.random.rand(100)\n",
    "b = b / np.linalg.norm(b)\n",
    "\n",
    "b = b - a * np.dot(b, a)\n",
    "b = b / np.linalg.norm(b) * 2\n",
    "\n",
    "u0 = a\n",
    "\n",
    "assert np.allclose(np.linalg.norm(a), 1)\n",
    "assert np.allclose(np.linalg.norm(b), 2)\n",
    "assert np.allclose(np.dot(a, b), 0)"
   ]
  },
  {
   "cell_type": "code",
   "execution_count": 205,
   "metadata": {},
   "outputs": [],
   "source": [
    "def J(u : np.ndarray):\n",
    "    return np.dot(u, u) + np.dot(u, a) ** 2 + np.dot(u, b)\n",
    "\n",
    "def gradient(u : np.ndarray):\n",
    "    return 2*u + 2*a*np.dot(u, a) + b\n",
    "\n",
    "def hessian(u : np.ndarray, h : np.ndarray):\n",
    "    return 2*h + 2*a*np.dot(a, h)\n",
    "\n",
    "def jk(u : np.ndarray, u_k : np.ndarray):\n",
    "    return np.dot(gradient(u_k), u - u_k) + 1/2*np.dot(hessian(u_k, u - u_k), u - u_k)\n",
    "\n",
    "def mk(u : np.ndarray, u_k : np.ndarray):\n",
    "    return J(u_k) + jk(u, u_k)\n",
    "\n",
    "def newton(l : float):\n",
    "    k = 0\n",
    "    u_k = u0\n",
    "    constraints = [\n",
    "        {'type': 'ineq', 'fun': lambda u: 2 - np.linalg.norm(u)},\n",
    "        {'type': 'ineq', 'fun': lambda u: np.dot(a, u) - 1}\n",
    "    ]\n",
    "\n",
    "    while True:\n",
    "        k += 1\n",
    "        u_k_hat = minimize(partial(jk, u_k=u_k), x0=u_k, constraints=constraints, tol=1e-8, options={'maxiter': 100}).x\n",
    "\n",
    "        # choose alpha\n",
    "        alpha = 1\n",
    "        f = J(u_k + alpha*(u_k_hat - u_k)) - J(u_k)\n",
    "        g = (mk(u_k_hat, u_k) - mk(u_k, u_k))\n",
    "        while f > alpha/2 * g:\n",
    "            alpha *= l\n",
    "\n",
    "        u_k1 = u_k + alpha*(u_k_hat - u_k)\n",
    "        if np.allclose(u_k1, u_k, rtol=1e-6):\n",
    "            print(f'Num iterations {k}')\n",
    "            return u_k1\n",
    "\n",
    "        u_k = u_k1"
   ]
  },
  {
   "cell_type": "code",
   "execution_count": 206,
   "metadata": {},
   "outputs": [
    {
     "name": "stdout",
     "output_type": "stream",
     "text": [
      "Num iterations 2\n"
     ]
    }
   ],
   "source": [
    "np.testing.assert_allclose(newton(l=1/2), a - b/2, rtol=1e-4, atol=1e-4)"
   ]
  },
  {
   "attachments": {},
   "cell_type": "markdown",
   "metadata": {},
   "source": [
    "# 3. Simplex Method"
   ]
  },
  {
   "attachments": {},
   "cell_type": "markdown",
   "metadata": {},
   "source": [
    "$$\n",
    "\\begin{align*}\n",
    "    \\begin{cases}\n",
    "        \\langle c, u \\rangle \\to min \\\\\n",
    "        Au = b\n",
    "    \\end{cases}\\,\n",
    "\\end{align*} \\\\ \n",
    "$$"
   ]
  },
  {
   "cell_type": "code",
   "execution_count": 193,
   "metadata": {},
   "outputs": [],
   "source": [
    "def subsample_identity(A, b):\n",
    "    inds = np.arange(A.shape[1])\n",
    "\n",
    "    for permuted_inds in itertools.permutations(inds):\n",
    "        permuted_inds = np.array(permuted_inds)\n",
    "        # back permutation\n",
    "        back_permutation = np.argsort(permuted_inds)\n",
    "\n",
    "        # reordering matrix A\n",
    "        A_cur = A[:, permuted_inds]\n",
    "        mat = sympy.Matrix(np.concatenate((A_cur, b[:, None]), axis=1))\n",
    "\n",
    "        # subsampling identity matrix\n",
    "        new_mat, ind_inds = mat.rref()\n",
    "\n",
    "        new_mat = np.array(new_mat)\n",
    "        ind_inds = np.array(ind_inds)\n",
    "\n",
    "        ind_inds = permuted_inds[ind_inds]\n",
    "\n",
    "        new_b = new_mat[:, -1]\n",
    "        new_mat = new_mat[:, :-1]\n",
    "        new_A = new_mat[:, back_permutation]\n",
    "\n",
    "        if np.all(new_b >= 0):\n",
    "            return new_A, new_b, ind_inds\n",
    "    \n",
    "    return None, None, None\n",
    "\n",
    "def simplex(A, b, c):\n",
    "    vertex = np.zeros(A.shape[1])\n",
    "    new_A, new_b, basis_inds = subsample_identity(A, b)\n",
    "    vertex[basis_inds] = new_b\n",
    "\n",
    "    joined_A = np.concatenate((new_A, new_b[:, None]), axis=1)\n",
    "\n",
    "    delta = c - (c[basis_inds][None, :] @ new_A).ravel() \n",
    "    joined_delta = np.hstack((delta, -np.array(np.dot(c, vertex))))\n",
    "\n",
    "    while not np.all(joined_delta[:-1] >= 0):\n",
    "        col_ind = np.argmin(joined_delta[:-1])\n",
    "        col = joined_A[:, col_ind]\n",
    "        row_ind = np.argmin(joined_A[:, -1] / col)\n",
    "\n",
    "        joined_A[row_ind] = joined_A[row_ind] / joined_A[row_ind, col_ind]\n",
    "\n",
    "        for i in range(joined_A.shape[0]):\n",
    "            if i == row_ind:\n",
    "                continue\n",
    "            joined_A[i] = joined_A[i] - joined_A[row_ind] * joined_A[i, col_ind]\n",
    "\n",
    "        joined_delta = joined_delta - joined_A[row_ind] * joined_delta[col_ind]\n",
    "\n",
    "        # update basis inds\n",
    "        for i in range(len(basis_inds)):\n",
    "            sub_column = np.zeros(joined_A.shape[0])\n",
    "            sub_column[i] = 1\n",
    "\n",
    "            for j in range(joined_A.shape[1] - 1):\n",
    "                if np.all(joined_A[:, j] == sub_column):\n",
    "                    basis_inds[i] = j\n",
    "                    break\n",
    "    \n",
    "    ans = np.zeros(new_A.shape[1])\n",
    "    ans[basis_inds] = joined_A[:, -1]\n",
    "\n",
    "    return ans, -joined_delta[-1]"
   ]
  },
  {
   "attachments": {},
   "cell_type": "markdown",
   "metadata": {},
   "source": [
    "## Examples"
   ]
  },
  {
   "cell_type": "code",
   "execution_count": 199,
   "metadata": {},
   "outputs": [
    {
     "data": {
      "text/plain": [
       "(array([ 6., 12.]), -78.0)"
      ]
     },
     "execution_count": 199,
     "metadata": {},
     "output_type": "execute_result"
    }
   ],
   "source": [
    "c = np.array([-5, -4])\n",
    "\n",
    "A = np.array([\n",
    "    [3, 5],\n",
    "    [4, 1]\n",
    "])\n",
    "b = np.array([78, 36])\n",
    "\n",
    "simplex(A, b, c)"
   ]
  },
  {
   "cell_type": "code",
   "execution_count": 194,
   "metadata": {},
   "outputs": [
    {
     "data": {
      "text/plain": [
       "(array([0., 1., 0., 1., 0.]), 1.00000000000000)"
      ]
     },
     "execution_count": 194,
     "metadata": {},
     "output_type": "execute_result"
    }
   ],
   "source": [
    "c = np.array([1, 1, -1, 0, 1])\n",
    "\n",
    "A = np.array([\n",
    "    [1, 0, 0, 1, -1],\n",
    "    [1, 1, 0, 2, 0],\n",
    "    [0, 0, 1, 1, 0]\n",
    "])\n",
    "b = np.array([1, 3, 1])\n",
    "\n",
    "simplex(A, b, c)"
   ]
  },
  {
   "cell_type": "code",
   "execution_count": 195,
   "metadata": {},
   "outputs": [
    {
     "data": {
      "text/plain": [
       "(array([0., 0., 1., 0.]), 2.00000000000000)"
      ]
     },
     "execution_count": 195,
     "metadata": {},
     "output_type": "execute_result"
    }
   ],
   "source": [
    "c = np.array([2, -1, 2, 3])\n",
    "\n",
    "A = np.array([\n",
    "    [1, 1, 3, 1],\n",
    "    [1, -1, 1, 2],\n",
    "])\n",
    "b = np.array([3, 1])\n",
    "\n",
    "simplex(A, b, c)"
   ]
  },
  {
   "cell_type": "code",
   "execution_count": 197,
   "metadata": {},
   "outputs": [
    {
     "data": {
      "text/plain": [
       "(array([1.33333333, 1.33333333, 0.66666667]), -2.0)"
      ]
     },
     "execution_count": 197,
     "metadata": {},
     "output_type": "execute_result"
    }
   ],
   "source": [
    "c = np.array([-1, 1, -3])\n",
    "\n",
    "A = np.array([\n",
    "    [-1, 2, 1],\n",
    "    [1, 3, 1],\n",
    "    [1, 1, -1]\n",
    "])\n",
    "b = np.array([2, 6, 2])\n",
    "\n",
    "simplex(A, b, c)"
   ]
  },
  {
   "attachments": {},
   "cell_type": "markdown",
   "metadata": {},
   "source": [
    "# 4. Ellipsoid Method"
   ]
  },
  {
   "cell_type": "code",
   "execution_count": 178,
   "metadata": {},
   "outputs": [],
   "source": [
    "def plot_poly(A : np.ndarray, b : np.ndarray, bounds : Sequence[int]):\n",
    "    fig = plt.figure(figsize=(4, 4))\n",
    "    # meshgrid\n",
    "    d = np.linspace(*bounds, 500)\n",
    "    x, y = np.meshgrid(d, d)\n",
    "\n",
    "    # plot polyhedron\n",
    "    constraint = np.ones_like(x, dtype=bool)\n",
    "    for a_i, b_i in zip(A, b):\n",
    "        constraint &= a_i[0]*x + a_i[1]*y <= b_i\n",
    "\n",
    "    plt.imshow(constraint.astype(int), extent=(x.min(), x.max(), y.min(), y.max()),\n",
    "               origin=\"lower\", cmap=\"Greys\", alpha = 0.8);\n",
    "\n",
    "\n",
    "def plot_subaxes(A : np.ndarray, b : np.ndarray, history : defaultdict(list), i : int,\n",
    "                 axes : matplotlib.axes, bounds : Sequence[int],  plot_additionals : bool = True):\n",
    "\n",
    "    D = history['D'][i]\n",
    "    D_inv = np.linalg.inv(D)\n",
    "    z = history['z'][i]\n",
    "\n",
    "    # meshgrid\n",
    "    d = np.linspace(*bounds, 500)\n",
    "    x, y = np.meshgrid(d, d)\n",
    "\n",
    "    # plot polyhedron\n",
    "    constraint = np.ones_like(x, dtype=bool)\n",
    "    for a_i, b_i in zip(A, b):\n",
    "        constraint &= a_i[0]*x + a_i[1]*y <= b_i\n",
    "\n",
    "    axes.imshow(constraint.astype(int), extent=(x.min(), x.max(), y.min(), y.max()),\n",
    "                origin=\"lower\", cmap=\"Greys\", alpha = 0.8);\n",
    "\n",
    "    # plot ellipsoid\n",
    "    axes.plot(*z, 'bo') # center\n",
    "\n",
    "    constraint = np.ones_like(x, dtype=bool)\n",
    "    constraint &= D_inv[0, 0]*((x-z[0])**2) + (D_inv[0, 1] + D_inv[1, 0])*((x-z[0])*(y-z[1])) + D_inv[1, 1]*((y-z[1])**2) <= 1\n",
    "\n",
    "    axes.imshow(constraint.astype(int), extent=(x.min(), x.max(), y.min(), y.max()),\n",
    "                origin=\"lower\", cmap=\"Blues\", alpha = 0.3);\n",
    "    \n",
    "    if not plot_additionals:\n",
    "        return\n",
    "\n",
    "    # hyperplane\n",
    "    a, beta = history['a'][i], history['beta'][i]\n",
    "    const = (np.dot(a.ravel(), z.ravel()) + beta * np.sqrt(a.T @ D @ a)).item()\n",
    "    mean = np.mean(bounds)\n",
    "    if a[0] == 0:\n",
    "        axes.axhline(y=const/a[1], color=\"black\", linestyle=\"--\")\n",
    "    elif a[1] == 0:\n",
    "        axes.axvline(x=const/a[0], color=\"black\", linestyle=\"--\")\n",
    "    else:\n",
    "        x_plane = (const - mean*a[1]) / a[0]\n",
    "        axes.axline((x_plane.item(), mean), slope=-a[0] / a[1], color=\"black\", linestyle=\"--\")\n",
    "\n",
    "    # plot next ellipsoid\n",
    "    D = history['D'][i+1]\n",
    "    D_inv = np.linalg.inv(D)\n",
    "    z = history['z'][i+1]\n",
    "\n",
    "    constraint = np.ones_like(x, dtype=bool)\n",
    "    constraint &= D_inv[0, 0]*((x-z[0])**2) + (D_inv[0, 1] + D_inv[1, 0])*((x-z[0])*(y-z[1])) + D_inv[1, 1]*((y-z[1])**2) <= 1\n",
    "\n",
    "    axes.imshow(constraint.astype(int), extent=(x.min(), x.max(), y.min(), y.max()),\n",
    "                origin=\"lower\", cmap=\"Greens\", alpha = 0.3);\n",
    "\n",
    "\n",
    "def plot_history(A : np.ndarray, b : np.ndarray, history : defaultdict(list),\n",
    "                    bounds : Sequence[int] = [-20, 20]):\n",
    "\n",
    "    if A.shape[1] != 2:\n",
    "        zk = history['z'][-1]\n",
    "        k = history['k'][0]\n",
    "        print('Unable to plot data')\n",
    "        print(f'Converged in {k} steps')\n",
    "        print(f'z = {zk.ravel()}')\n",
    "        return\n",
    "\n",
    "    n_plots = len(history['D']) + 1\n",
    "    fig, axes = plt.subplots(nrows=1, ncols=n_plots, figsize=(4 * n_plots, 4))\n",
    "    fig.suptitle('Convergence history')\n",
    "\n",
    "    plot_subaxes(A, b, history, 0, axes[0], bounds, plot_additionals=False)\n",
    "    for i in range(n_plots - 2):\n",
    "        plot_subaxes(A, b, history, i, axes[i + 1], bounds, plot_additionals=True)\n",
    "    plot_subaxes(A, b, history, -1, axes[-1], bounds, plot_additionals=False)"
   ]
  },
  {
   "cell_type": "code",
   "execution_count": 187,
   "metadata": {},
   "outputs": [],
   "source": [
    "def ellipsoid_method(A, b, z0, D0, eps=1e-8, j=20, approximate=False):\n",
    "    n = A.shape[1]\n",
    "    k = 0\n",
    "\n",
    "    zk = z0\n",
    "    Dk = D0\n",
    "\n",
    "    # step 1\n",
    "    alpha = int(np.ceil(np.log10(2 * ((n+1)**3))) + 5)\n",
    "    lambda_n, _ = np.linalg.eig(D0)\n",
    "    lambda_n = lambda_n.ravel().min()\n",
    "\n",
    "    history = defaultdict(list)\n",
    "    for name, obj in zip(['D', 'z'], [Dk, zk]):\n",
    "        history[name].append(obj)\n",
    "\n",
    "    while True:\n",
    "        # step 2\n",
    "        if np.all((A @ zk).ravel() <= b):\n",
    "            history['k'].append(k)\n",
    "            return history\n",
    "        k += 1\n",
    "        i = np.argmax((A @ zk).ravel() > b)\n",
    "\n",
    "        a = A[i].reshape(-1, 1)\n",
    "        beta = (b[i] - np.dot(a.ravel(), zk).item()) * (1/np.sqrt(a.T @ Dk @ a).item()) \n",
    "\n",
    "\n",
    "        # step 3\n",
    "        zk = zk + (beta*n - 1)/(n + 1) * (Dk @ a)/(np.sqrt(a.T @ Dk @ a))\n",
    "        Dk = (n**2)*(1-beta**2)/((n**2)-1) * (Dk - (2*(1-n*beta))/((1-beta)*(n+1)) * (Dk @ a @ a.T @ Dk)/(a.T @ Dk @ a))\n",
    "\n",
    "        for name, obj in zip(['D', 'z', 'a', 'beta'], [Dk, zk, a, beta]):\n",
    "            history[name].append(obj)\n",
    "\n",
    "\n",
    "        # step 4\n",
    "        if k % j == 0:\n",
    "            lambda_n, _ = np.linalg.eig(Dk)\n",
    "            lambda_n = lambda_n.min()\n",
    "        else:\n",
    "            lambda_n = ((n**2)*((beta+1)**2) / ((n+1)**2)) * lambda_n\n",
    "        \n",
    "\n",
    "        # step 5\n",
    "        if approximate:\n",
    "            p = np.ceil(np.log10(n/lambda_n + np.sqrt(n/lambda_n) + (n**2)/(2*lambda_n)) + alpha)\n",
    "            rho = ((1 + np.sqrt(n/lambda_n) * (10 ** (-p))) ** 2) / (1 - n/lambda_n * (10 ** (-p)))\n",
    "\n",
    "            Dk = np.round((10 ** p) * rho * Dk) / (10 ** p)\n",
    "            zk = np.round((10 ** p) * zk) / (10 ** p)\n",
    "\n",
    "\n",
    "        # step 6\n",
    "        if np.linalg.det(Dk) < eps:\n",
    "            print(f'Polyhedron is infinite or D0 initialization is incorrect. det(D) = {np.linalg.det(Dk)}')\n",
    "            return None"
   ]
  },
  {
   "attachments": {},
   "cell_type": "markdown",
   "metadata": {},
   "source": [
    "## Examples"
   ]
  },
  {
   "cell_type": "code",
   "execution_count": 188,
   "metadata": {},
   "outputs": [
    {
     "data": {
      "image/png": "[encoded data removed]",
      "text/plain": [
       "<Figure size 864x288 with 3 Axes>"
      ]
     },
     "metadata": {},
     "output_type": "display_data"
    }
   ],
   "source": [
    "A = np.array([\n",
    "    [0, -1],\n",
    "    [-1, 0],\n",
    "    [0, 1],\n",
    "    [1, 0]\n",
    "])\n",
    "\n",
    "b = np.array([-1, 9, 7, 4])\n",
    "\n",
    "z0 = np.array([0, 0]).reshape(-1, 1)\n",
    "R0 = 15\n",
    "D0 = np.array([\n",
    "    [1, 0],\n",
    "    [0, 1]\n",
    "]) * ((R0)**2)\n",
    "\n",
    "history = ellipsoid_method(A, b, z0, D0)\n",
    "plot_history(A, b, history, bounds=[-20, 25])"
   ]
  },
  {
   "cell_type": "code",
   "execution_count": 189,
   "metadata": {},
   "outputs": [
    {
     "data": {
      "image/png": "[encoded data removed]",
      "text/plain": [
       "<Figure size 1152x288 with 4 Axes>"
      ]
     },
     "metadata": {},
     "output_type": "display_data"
    }
   ],
   "source": [
    "A = np.array([\n",
    "    [0, -1],\n",
    "    [1, 2],\n",
    "    [2, -4],\n",
    "    [-2, 1]\n",
    "])\n",
    "\n",
    "b = np.array([-2, 25, 8, -5])\n",
    "\n",
    "z0 = np.array([1, 1]).reshape(-1, 1)\n",
    "R0 = 18\n",
    "D0 = np.array([\n",
    "    [1, 0],\n",
    "    [0, 1]\n",
    "]) * ((R0)**2)\n",
    "\n",
    "history = ellipsoid_method(A, b, z0, D0)\n",
    "plot_history(A, b, history, bounds=[-20, 25])"
   ]
  },
  {
   "cell_type": "code",
   "execution_count": 190,
   "metadata": {},
   "outputs": [
    {
     "data": {
      "image/png": "[encoded data removed]",
      "text/plain": [
       "<Figure size 864x288 with 3 Axes>"
      ]
     },
     "metadata": {},
     "output_type": "display_data"
    }
   ],
   "source": [
    "A = np.array([\n",
    "    [1, 2],\n",
    "    [2, -4]\n",
    "])\n",
    "\n",
    "b = np.array([25, 8])\n",
    "\n",
    "z0 = np.array([10, 1]).reshape(-1, 1)\n",
    "R0 = 18\n",
    "D0 = np.array([\n",
    "    [1, 0],\n",
    "    [0, 1]\n",
    "]) * ((R0)**2)\n",
    "\n",
    "history = ellipsoid_method(A, b, z0, D0)\n",
    "plot_history(A, b, history, bounds=[-20, 25])"
   ]
  },
  {
   "cell_type": "code",
   "execution_count": 191,
   "metadata": {},
   "outputs": [
    {
     "data": {
      "image/png": "[encoded data removed]",
      "text/plain": [
       "<Figure size 1440x288 with 5 Axes>"
      ]
     },
     "metadata": {},
     "output_type": "display_data"
    }
   ],
   "source": [
    "A = np.array([\n",
    "    [-1, 2],\n",
    "    [0, 1],\n",
    "    [1, 2],\n",
    "    [-1, 0],\n",
    "    [1, 0],\n",
    "    [0, -1],\n",
    "])\n",
    "\n",
    "b = np.array([-10, -10, 30, 25, 75, 37])\n",
    "\n",
    "z0 = np.array([75, 0]).reshape(-1, 1)\n",
    "R0 = 107\n",
    "D0 = np.array([\n",
    "    [1, 0],\n",
    "    [0, 1]\n",
    "]) * ((R0)**2)\n",
    "\n",
    "history = ellipsoid_method(A, b, z0, D0)\n",
    "plot_history(A, b, history, bounds=[-100, 200])\n",
    "# plot_poly(A, b, [-50, 100])"
   ]
  },
  {
   "cell_type": "code",
   "execution_count": 192,
   "metadata": {},
   "outputs": [
    {
     "name": "stdout",
     "output_type": "stream",
     "text": [
      "Unable to plot data\n",
      "Converged in 7 steps\n",
      "z = [-4.375       2.69342189  0.        ]\n"
     ]
    }
   ],
   "source": [
    "A = np.array([\n",
    "    [1, 0, 0],\n",
    "    [-1, 0, 0],\n",
    "    [0, 1, 0],\n",
    "    [0, -1, 0],\n",
    "    [0, 0, 1],\n",
    "    [0, 0, -1],\n",
    "])\n",
    "\n",
    "b = np.array([5, 5, 5, 5, 5, 5])\n",
    "\n",
    "z0 = np.array([15, 15, 0]).reshape(-1, 1)\n",
    "R0 = 100\n",
    "D0 = np.array([\n",
    "    [1, 0, 0],\n",
    "    [0, 1, 0],\n",
    "    [0, 0, 1]\n",
    "]) * ((R0)**2)\n",
    "\n",
    "history = ellipsoid_method(A, b, z0, D0)\n",
    "plot_history(A, b, history, bounds=[-100, 200])"
   ]
  }
 ],
 "metadata": {
  "kernelspec": {
   "display_name": "Python 3",
   "language": "python",
   "name": "python3"
  },
  "language_info": {
   "codemirror_mode": {
    "name": "ipython",
    "version": 3
   },
   "file_extension": ".py",
   "mimetype": "text/x-python",
   "name": "python",
   "nbconvert_exporter": "python",
   "pygments_lexer": "ipython3",
   "version": "3.8.10"
  },
  "orig_nbformat": 4
 },
 "nbformat": 4,
 "nbformat_minor": 2
}
